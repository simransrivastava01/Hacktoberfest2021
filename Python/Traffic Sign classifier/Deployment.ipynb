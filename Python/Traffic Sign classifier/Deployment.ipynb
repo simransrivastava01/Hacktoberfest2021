{
 "cells": [
  {
   "cell_type": "code",
   "execution_count": 1,
   "metadata": {},
   "outputs": [],
   "source": [
    "import tensorflow as tf\n",
    "model = tf.keras.models.load_model('model.h5')"
   ]
  },
  {
   "cell_type": "code",
   "execution_count": 2,
   "metadata": {},
   "outputs": [
    {
     "name": "stderr",
     "output_type": "stream",
     "text": [
      "2021-02-09 10:49:36.381 WARNING root: \n",
      "  \u001b[33m\u001b[1mWarning:\u001b[0m to view this Streamlit app on a browser, run it with the following\n",
      "  command:\n",
      "\n",
      "    streamlit run c:\\programdata\\anaconda3\\envs\\tensorflow\\lib\\site-packages\\ipykernel_launcher.py [ARGUMENTS]\n"
     ]
    }
   ],
   "source": [
    "import streamlit as st\n",
    "st.write(\"\"\"\n",
    "         # Rock-Paper-Scissor Hand Sign Prediction\n",
    "         \"\"\"\n",
    "         )\n",
    "st.write(\"This is a simple image classification web app to predict Traffic Sign\")\n",
    "file = st.file_uploader(\"Please upload an image file\", type=[\"jpg\", \"png\"])"
   ]
  },
  {
   "cell_type": "code",
   "execution_count": null,
   "metadata": {},
   "outputs": [],
   "source": [
    "import cv2\n",
    "from PIL import Image, ImageOps\n",
    "import numpy as np\n",
    "def import_and_predict(image_data, model):\n",
    "    \n",
    "        size = (150,150)    \n",
    "        image = ImageOps.fit(image_data, size, Image.ANTIALIAS)\n",
    "        image = np.asarray(image)\n",
    "        img = cv2.cvtColor(image, cv2.COLOR_BGR2RGB)\n",
    "        img_resize = (cv2.resize(img, dsize=(75, 75),    interpolation=cv2.INTER_CUBIC))/255.\n",
    "        \n",
    "        img_reshape = img_resize[np.newaxis,...]\n",
    "    \n",
    "        prediction = model.predict(img_reshape)\n",
    "        \n",
    "        return prediction\n",
    "if file is None:\n",
    "    st.text(\"Please upload an image file\")\n",
    "else:\n",
    "    image = Image.open(file)\n",
    "    st.image(image, use_column_width=True)\n",
    "    prediction = import_and_predict(image, model)\n",
    "    \n",
    "    if np.argmax(prediction) == 0:\n",
    "        st.write(\"It is a paper!\")\n",
    "    elif np.argmax(prediction) == 1:\n",
    "        st.write(\"It is a rock!\")\n",
    "    else:\n",
    "        st.write(\"It is a scissor!\")\n",
    "    \n",
    "    st.text(\"Probability (0: Paper, 1: Rock, 2: Scissor\")\n",
    "    st.write(prediction)"
   ]
  }
 ],
 "metadata": {
  "kernelspec": {
   "display_name": "Python 3",
   "language": "python",
   "name": "python3"
  },
  "language_info": {
   "codemirror_mode": {
    "name": "ipython",
    "version": 3
   },
   "file_extension": ".py",
   "mimetype": "text/x-python",
   "name": "python",
   "nbconvert_exporter": "python",
   "pygments_lexer": "ipython3",
   "version": "3.7.1"
  }
 },
 "nbformat": 4,
 "nbformat_minor": 4
}
